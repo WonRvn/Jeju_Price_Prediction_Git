{
 "cells": [
  {
   "cell_type": "markdown",
   "id": "k7eulrgaQwYy",
   "metadata": {
    "id": "k7eulrgaQwYy"
   },
   "source": [
    "## Import"
   ]
  },
  {
   "cell_type": "code",
   "execution_count": null,
   "id": "tJtQnBZPjD9y",
   "metadata": {
    "colab": {
     "base_uri": "https://localhost:8080/"
    },
    "id": "tJtQnBZPjD9y",
    "outputId": "a650b42b-6869-4250-c424-2c239e87af2a"
   },
   "outputs": [],
   "source": [
    "from google.colab import drive\n",
    "drive.mount('/content/drive')"
   ]
  },
  {
   "cell_type": "code",
   "execution_count": null,
   "id": "rBvX-8P2QwYy",
   "metadata": {
    "id": "rBvX-8P2QwYy"
   },
   "outputs": [],
   "source": [
    "import random\n",
    "import pandas as pd\n",
    "import numpy as np\n",
    "import os\n",
    "import seaborn as sns\n",
    "import matplotlib.pyplot as plt\n",
    "from sklearn.preprocessing import MinMaxScaler\n",
    "from sklearn.preprocessing import LabelEncoder, StandardScaler\n",
    "import warnings\n",
    "from sklearn.model_selection import train_test_split\n",
    "from sklearn.metrics import mean_squared_error\n",
    "\n",
    "warnings.filterwarnings(action='ignore')"
   ]
  },
  {
   "cell_type": "markdown",
   "id": "QT7_IBn9QwYz",
   "metadata": {
    "id": "QT7_IBn9QwYz"
   },
   "source": [
    "## Fixed Random-Seed"
   ]
  },
  {
   "cell_type": "code",
   "execution_count": null,
   "id": "KgyHxME7QwYz",
   "metadata": {
    "id": "KgyHxME7QwYz"
   },
   "outputs": [],
   "source": [
    "def seed_everything(seed):\n",
    "    random.seed(seed)\n",
    "    os.environ['PYTHONHASHSEED'] = str(seed)\n",
    "    np.random.seed(seed)\n",
    "\n",
    "seed_everything(42) # Seed 고정"
   ]
  },
  {
   "cell_type": "markdown",
   "id": "a0b96368",
   "metadata": {
    "id": "a0b96368"
   },
   "source": [
    "## Load Data"
   ]
  },
  {
   "cell_type": "code",
   "execution_count": null,
   "id": "3979c375",
   "metadata": {
    "id": "3979c375"
   },
   "outputs": [],
   "source": [
    "train_df = pd.read_csv('/content/drive/MyDrive/competition/Jeju Prediction/train.csv')\n",
    "test_df = pd.read_csv('/content/drive/MyDrive/competition/Jeju Prediction/test.csv')\n",
    "inter_df = pd.read_csv('/content/drive/MyDrive/competition/Jeju Prediction/international_trade.csv')"
   ]
  },
  {
   "cell_type": "code",
   "execution_count": null,
   "id": "BQvP8JbGkUHp",
   "metadata": {
    "colab": {
     "base_uri": "https://localhost:8080/",
     "height": 424
    },
    "id": "BQvP8JbGkUHp",
    "outputId": "1b087355-c34d-4b58-e023-8f64340c2ada"
   },
   "outputs": [],
   "source": [
    "train_df"
   ]
  },
  {
   "cell_type": "code",
   "execution_count": null,
   "id": "BaSCb6cgBxHc",
   "metadata": {
    "colab": {
     "base_uri": "https://localhost:8080/",
     "height": 424
    },
    "id": "BaSCb6cgBxHc",
    "outputId": "5fc4cdeb-caf4-4b6e-cd3a-41248d4d8785"
   },
   "outputs": [],
   "source": [
    "inter_df"
   ]
  },
  {
   "cell_type": "code",
   "execution_count": null,
   "id": "N5L7anqrkV-Z",
   "metadata": {
    "colab": {
     "base_uri": "https://localhost:8080/",
     "height": 424
    },
    "id": "N5L7anqrkV-Z",
    "outputId": "64bb6390-8894-495d-e4ee-cb0df19c867f"
   },
   "outputs": [],
   "source": [
    "test_df"
   ]
  },
  {
   "cell_type": "markdown",
   "id": "oEEZXBhnxKci",
   "metadata": {
    "id": "oEEZXBhnxKci"
   },
   "source": [
    "## **Heatmap Visualization**"
   ]
  },
  {
   "cell_type": "code",
   "execution_count": null,
   "id": "IiWU5GUTxKWa",
   "metadata": {
    "colab": {
     "base_uri": "https://localhost:8080/",
     "height": 699
    },
    "id": "IiWU5GUTxKWa",
    "outputId": "0cb0b8bb-b320-46b7-ad58-328ebc98517f"
   },
   "outputs": [],
   "source": [
    "# Calculate the correlation matrix\n",
    "corr_matrix = train_df.corr()\n",
    "\n",
    "# Create a heatmap\n",
    "plt.figure(figsize=(12, 8))\n",
    "sns.heatmap(corr_matrix, annot=True, fmt=\".2f\", cmap=\"coolwarm\", vmin=-1, vmax=1)\n",
    "plt.title('Heatmap of Feature Correlations')\n",
    "plt.show()"
   ]
  },
  {
   "cell_type": "markdown",
   "id": "xxYLXWALlkEC",
   "metadata": {
    "id": "xxYLXWALlkEC"
   },
   "source": [
    "## **Box Plot Visualization**"
   ]
  },
  {
   "cell_type": "code",
   "execution_count": null,
   "id": "3ZyN5RT0kyy3",
   "metadata": {
    "colab": {
     "base_uri": "https://localhost:8080/",
     "height": 487
    },
    "id": "3ZyN5RT0kyy3",
    "outputId": "1cce310a-894a-4439-e77f-bcdb6e706377"
   },
   "outputs": [],
   "source": [
    "# Plotting boxplots to visualize outliers\n",
    "plt.figure(figsize=(15, 5))\n",
    "\n",
    "# Boxplot for supply(kg)\n",
    "plt.subplot(1, 2, 1)\n",
    "sns.boxplot(x=train_df['supply(kg)'])\n",
    "plt.title('Boxplot for supply(kg)')\n",
    "\n",
    "# Boxplot for price(원/kg)\n",
    "plt.subplot(1, 2, 2)\n",
    "sns.boxplot(x=train_df['price(원/kg)'])\n",
    "plt.title('Boxplot for price(원/kg)')\n",
    "\n",
    "plt.show()"
   ]
  },
  {
   "cell_type": "markdown",
   "id": "MK4X6n9llpcH",
   "metadata": {
    "id": "MK4X6n9llpcH"
   },
   "source": [
    "## **Checking Outliers Using Z-Score**"
   ]
  },
  {
   "cell_type": "code",
   "execution_count": null,
   "id": "sWORryYalFP7",
   "metadata": {
    "colab": {
     "base_uri": "https://localhost:8080/",
     "height": 524
    },
    "id": "sWORryYalFP7",
    "outputId": "8d73e84d-9a31-44ca-c936-282898ea2c32"
   },
   "outputs": [],
   "source": [
    "from scipy import stats\n",
    "\n",
    "# Calculate the Z-scores of `supply(kg)` and `price(원/kg)`\n",
    "train_df['supply_z'] = np.abs(stats.zscore(train_df['supply(kg)']))\n",
    "train_df['price_z'] = np.abs(stats.zscore(train_df['price(원/kg)']))\n",
    "\n",
    "# Define a threshold for identifying an outlier\n",
    "threshold = 3\n",
    "\n",
    "# Identify outliers\n",
    "outliers_supply = train_df[train_df['supply_z'] > threshold]\n",
    "outliers_price = train_df[train_df['price_z'] > threshold]\n",
    "\n",
    "# Print the number of outliers\n",
    "print(f\"Number of outliers in supply(kg): {outliers_supply.shape[0]}\")\n",
    "print(f\"Number of outliers in price(원/kg): {outliers_price.shape[0]}\")\n",
    "\n",
    "# Visualize the Z-scores\n",
    "plt.figure(figsize=(15, 5))\n",
    "\n",
    "# Histogram for Z-scores of supply(kg)\n",
    "plt.subplot(1, 2, 1)\n",
    "sns.histplot(train_df['supply_z'], kde=False, bins=50)\n",
    "plt.title('Z-score Distribution for supply(kg)')\n",
    "plt.axvline(x=threshold, color='r', linestyle='--')\n",
    "\n",
    "# Histogram for Z-scores of price(원/kg)\n",
    "plt.subplot(1, 2, 2)\n",
    "sns.histplot(train_df['price_z'], kde=False, bins=50)\n",
    "plt.title('Z-score Distribution for price(원/kg)')\n",
    "plt.axvline(x=threshold, color='r', linestyle='--')\n",
    "\n",
    "plt.show()\n"
   ]
  },
  {
   "cell_type": "markdown",
   "id": "r-3_zmrwQwYz",
   "metadata": {
    "id": "r-3_zmrwQwYz"
   },
   "source": [
    "## Data Pre-Processing"
   ]
  },
  {
   "cell_type": "code",
   "execution_count": null,
   "id": "ToKZHk6iOETS",
   "metadata": {
    "colab": {
     "base_uri": "https://localhost:8080/"
    },
    "id": "ToKZHk6iOETS",
    "outputId": "873ab795-3088-44d6-93e6-e872e6b37a08"
   },
   "outputs": [],
   "source": [
    "# 1. Handling Missing Values\n",
    "# 1. 결측값 (값이 없는 값들) 열마다 총 몇 개 있는지 확인하는 코드\n",
    "\n",
    "missing_values = train_df.isnull().sum()\n",
    "print(\"Missing values:\\n\", missing_values)"
   ]
  },
  {
   "cell_type": "code",
   "execution_count": null,
   "id": "iGr3ypoMlaIu",
   "metadata": {
    "colab": {
     "base_uri": "https://localhost:8080/"
    },
    "id": "iGr3ypoMlaIu",
    "outputId": "c6f50623-fb95-4ea6-8cd2-1a5828bf89a4"
   },
   "outputs": [],
   "source": [
    "# 2. Removing Outliers\n",
    "# Define a threshold for identifying an outlier\n",
    "threshold = 3\n",
    "\n",
    "# Exclude rows where the absolute Z-score is greater than the threshold\n",
    "train_df = train_df[(train_df['supply_z'] <= threshold) & (train_df['price_z'] <= threshold)]\n",
    "\n",
    "print(f\"Cleaned DataFrame shape: {train_df.shape}\")\n",
    "\n",
    "# You may want to drop the Z-score columns as they were only needed for the outlier detection\n",
    "train_df = train_df.drop(columns=['supply_z', 'price_z'])"
   ]
  },
  {
   "cell_type": "code",
   "execution_count": null,
   "id": "LBw9u_N7OKWt",
   "metadata": {
    "id": "LBw9u_N7OKWt"
   },
   "outputs": [],
   "source": [
    "# 3. Converting Data Types\n",
    "train_df['timestamp'] = pd.to_datetime(train_df['timestamp'])"
   ]
  },
  {
   "cell_type": "code",
   "execution_count": null,
   "id": "Vnr0h-8uON7A",
   "metadata": {
    "id": "Vnr0h-8uON7A"
   },
   "outputs": [],
   "source": [
    "# 4. Encoding Categorical Variables\n",
    "\n",
    "label_encoder = LabelEncoder()\n",
    "for column in ['item', 'corporation', 'location']:\n",
    "    combined = pd.concat([train_df[column], test_df[column]], axis=0)\n",
    "    label_encoder.fit(combined)\n",
    "    train_df[column] = label_encoder.transform(train_df[column])\n",
    "    test_df[column] = label_encoder.transform(test_df[column])"
   ]
  },
  {
   "cell_type": "code",
   "execution_count": null,
   "id": "dS6uRi-2OQcI",
   "metadata": {
    "id": "dS6uRi-2OQcI"
   },
   "outputs": [],
   "source": [
    "# 5. Feature Engineering\n",
    "\n",
    "train_df['year'] = train_df['timestamp'].dt.year\n",
    "train_df['month'] = train_df['timestamp'].dt.month\n",
    "train_df['day'] = train_df['timestamp'].dt.day\n",
    "train_df = train_df.drop(columns=['ID', 'timestamp', 'supply(kg)'])"
   ]
  },
  {
   "cell_type": "code",
   "execution_count": null,
   "id": "0Ufr7mLFs-3_",
   "metadata": {
    "colab": {
     "base_uri": "https://localhost:8080/"
    },
    "id": "0Ufr7mLFs-3_",
    "outputId": "e10647fa-182a-45e1-e340-158e8f10e658"
   },
   "outputs": [],
   "source": [
    "# 6. Splitting Data into Training and Validation Sets\n",
    "train_data, valid_data = train_test_split(train_df, test_size=0.2, random_state=42)\n",
    "print(\"Training Data Shape:\", train_data.shape)\n",
    "print(\"Validation Data Shape:\", valid_data.shape)"
   ]
  },
  {
   "cell_type": "code",
   "execution_count": null,
   "id": "hagJu4UzmPAz",
   "metadata": {
    "colab": {
     "base_uri": "https://localhost:8080/",
     "height": 424
    },
    "id": "hagJu4UzmPAz",
    "outputId": "2ebfb6a3-840b-4f1a-b154-0b91dd4745b7"
   },
   "outputs": [],
   "source": [
    "# Show the first few rows of the preprocessed and transformed data\n",
    "train_df"
   ]
  },
  {
   "cell_type": "markdown",
   "id": "ZC7hzMtOQwY0",
   "metadata": {
    "id": "ZC7hzMtOQwY0"
   },
   "source": [
    "## **Pycaret**"
   ]
  },
  {
   "cell_type": "code",
   "execution_count": null,
   "id": "yrTng6Gjjbaa",
   "metadata": {
    "colab": {
     "base_uri": "https://localhost:8080/"
    },
    "id": "yrTng6Gjjbaa",
    "outputId": "c1d9068b-83ac-4473-bee0-ac3c606168c4"
   },
   "outputs": [],
   "source": [
    "!pip install --upgrade scipy\n",
    "!pip install --upgrade pycaret"
   ]
  },
  {
   "cell_type": "code",
   "execution_count": null,
   "id": "Ktec1ZJHjshV",
   "metadata": {
    "id": "Ktec1ZJHjshV"
   },
   "outputs": [],
   "source": [
    "from pycaret.regression import *"
   ]
  },
  {
   "cell_type": "code",
   "execution_count": null,
   "id": "jUriTRW7jvpz",
   "metadata": {
    "colab": {
     "base_uri": "https://localhost:8080/",
     "height": 1000,
     "referenced_widgets": [
      "7f76b1a869384cb3b1f9e92905fe4625",
      "dbcb02bc063d4b6b9ea16d2050f99cb6",
      "c47851802d604845ae5297a8aa7a9098",
      "251680d9132d4f5ea6df2fbf033438ce",
      "463a0c83089048c0812def4b9a01d43e",
      "d5a64028c617406eb40e0d1281070783",
      "0037b35c00c84f40b27ceb3343b29771",
      "d57bfc1c2ed8473a945e59903eb1ee6f",
      "aaf146e5697c4ed19fec01aa0970ab02",
      "2d75c00e88c94e72b4e1ffb4b0d0782b",
      "503f1e42455241e3a22a1fe2078be915"
     ]
    },
    "id": "jUriTRW7jvpz",
    "outputId": "297d16d3-7b59-4017-8860-85144506603e"
   },
   "outputs": [],
   "source": [
    "# Initialize the setup with validation set\n",
    "regression_setup = setup(data=train_data,\n",
    "                         target='price(원/kg)',\n",
    "                         session_id=42,\n",
    "                         normalize=True,\n",
    "                         transformation=True,\n",
    "                         transform_target=True,\n",
    "                         data_split_shuffle=False) # No additional shuffling, as we've already split the data\n",
    "\n",
    "# Compare models to find the best one\n",
    "best_model = compare_models(sort='RMSE')  # Sorting by RMSE\n",
    "\n",
    "# Show the best model\n",
    "print(best_model)"
   ]
  },
  {
   "cell_type": "markdown",
   "id": "VhcH6LYnZLKo",
   "metadata": {
    "id": "VhcH6LYnZLKo"
   },
   "source": [
    "## **Light Gradient Boosting Machine Model**"
   ]
  },
  {
   "cell_type": "code",
   "execution_count": null,
   "id": "ZuoRpnGPZJXm",
   "metadata": {
    "colab": {
     "base_uri": "https://localhost:8080/"
    },
    "id": "ZuoRpnGPZJXm",
    "outputId": "bf08a9b4-b99d-482c-b9be-bde603352de0"
   },
   "outputs": [],
   "source": [
    "!pip install --upgrade lightgbm"
   ]
  },
  {
   "cell_type": "code",
   "execution_count": null,
   "id": "Pr3ABVI2aYwv",
   "metadata": {
    "id": "Pr3ABVI2aYwv"
   },
   "outputs": [],
   "source": [
    "import lightgbm as lgb"
   ]
  },
  {
   "cell_type": "code",
   "execution_count": null,
   "id": "dNwx9hPqaSFL",
   "metadata": {
    "id": "dNwx9hPqaSFL"
   },
   "outputs": [],
   "source": [
    "# Assuming train_data and valid_data are already split and contain the target variable 'price(원/kg)'\n",
    "X_train = train_data.drop(columns=['price(원/kg)'])\n",
    "y_train = train_data['price(원/kg)']\n",
    "X_valid = valid_data.drop(columns=['price(원/kg)'])\n",
    "y_valid = valid_data['price(원/kg)']"
   ]
  },
  {
   "cell_type": "code",
   "execution_count": null,
   "id": "QRduLgNYaUJe",
   "metadata": {
    "id": "QRduLgNYaUJe"
   },
   "outputs": [],
   "source": [
    "# Create the LightGBM data containers\n",
    "train_data_lgb = lgb.Dataset(X_train, label=y_train)\n",
    "valid_data_lgb = lgb.Dataset(X_valid, label=y_valid, reference=train_data_lgb)"
   ]
  },
  {
   "cell_type": "code",
   "execution_count": null,
   "id": "KvO1rZzHaa-D",
   "metadata": {
    "id": "KvO1rZzHaa-D"
   },
   "outputs": [],
   "source": [
    "# Parameters for the model\n",
    "params = {\n",
    "    'objective': 'regression',\n",
    "    'metric': 'rmse',\n",
    "    'boosting_type': 'gbdt',\n",
    "    'verbose': -1,\n",
    "    'seed': 42\n",
    "}"
   ]
  },
  {
   "cell_type": "code",
   "execution_count": null,
   "id": "5Pu-97i3byWb",
   "metadata": {
    "id": "5Pu-97i3byWb"
   },
   "outputs": [],
   "source": [
    "# help(lgb.train)"
   ]
  },
  {
   "cell_type": "code",
   "execution_count": null,
   "id": "_o1yKMZgacCL",
   "metadata": {
    "colab": {
     "base_uri": "https://localhost:8080/"
    },
    "id": "_o1yKMZgacCL",
    "outputId": "bfe235ed-0b51-4279-ac6d-9e8edcd90d04"
   },
   "outputs": [],
   "source": [
    "# Training the model\n",
    "\n",
    "lgb_model = lgb.train(\n",
    "    params,\n",
    "    train_data_lgb,\n",
    "    num_boost_round=1000,\n",
    "    valid_sets=[valid_data_lgb],\n",
    "    callbacks=[lgb.early_stopping(100)]\n",
    ")"
   ]
  },
  {
   "cell_type": "code",
   "execution_count": null,
   "id": "d9IzaqZhagRl",
   "metadata": {
    "id": "d9IzaqZhagRl"
   },
   "outputs": [],
   "source": [
    "# Prediction on validation set\n",
    "y_pred = lgb_model.predict(X_valid, num_iteration=lgb_model.best_iteration)"
   ]
  },
  {
   "cell_type": "code",
   "execution_count": null,
   "id": "KPVNbze8ahqJ",
   "metadata": {
    "colab": {
     "base_uri": "https://localhost:8080/"
    },
    "id": "KPVNbze8ahqJ",
    "outputId": "45a063a7-d954-4714-9da8-66d30c5e7c72"
   },
   "outputs": [],
   "source": [
    "# Evaluate the model\n",
    "rmse = mean_squared_error(y_valid, y_pred, squared=False)\n",
    "print(f'RMSE: {rmse}')"
   ]
  },
  {
   "cell_type": "markdown",
   "id": "Uj-WTX6oQwY0",
   "metadata": {
    "id": "Uj-WTX6oQwY0"
   },
   "source": [
    "## Inference"
   ]
  },
  {
   "cell_type": "code",
   "execution_count": null,
   "id": "loOOCYlXuhlX",
   "metadata": {
    "id": "loOOCYlXuhlX"
   },
   "outputs": [],
   "source": [
    "# Preprocessing test data\n",
    "test_df['timestamp'] = pd.to_datetime(test_df['timestamp'])"
   ]
  },
  {
   "cell_type": "code",
   "execution_count": null,
   "id": "GWYN-IuEwn0k",
   "metadata": {
    "id": "GWYN-IuEwn0k"
   },
   "outputs": [],
   "source": [
    "test_df['year'] = test_df['timestamp'].dt.year\n",
    "test_df['month'] = test_df['timestamp'].dt.month\n",
    "test_df['day'] = test_df['timestamp'].dt.day\n",
    "test_df = test_df.drop(columns=['ID', 'timestamp'])  # Update this as per your preprocessing steps"
   ]
  },
  {
   "cell_type": "code",
   "execution_count": null,
   "id": "ENCOoU00QwY0",
   "metadata": {
    "id": "ENCOoU00QwY0"
   },
   "outputs": [],
   "source": [
    "# Use the test set for final testing\n",
    "test_predictions = lgb_model.predict(test_df, num_iteration=lgb_model.best_iteration)"
   ]
  },
  {
   "cell_type": "markdown",
   "id": "5FMPeTISQwY0",
   "metadata": {
    "id": "5FMPeTISQwY0"
   },
   "source": [
    "## Submission"
   ]
  },
  {
   "cell_type": "code",
   "execution_count": null,
   "id": "AXO-EmaQQwY0",
   "metadata": {
    "colab": {
     "base_uri": "https://localhost:8080/",
     "height": 424
    },
    "id": "AXO-EmaQQwY0",
    "outputId": "e1413a62-d3ba-4288-8d73-2c4f5ed888a0"
   },
   "outputs": [],
   "source": [
    "submission = pd.read_csv('/content/drive/MyDrive/competition/Jeju Prediction/sample_submission.csv')\n",
    "submission"
   ]
  },
  {
   "cell_type": "code",
   "execution_count": null,
   "id": "a4bfa9ac",
   "metadata": {
    "colab": {
     "base_uri": "https://localhost:8080/",
     "height": 424
    },
    "id": "a4bfa9ac",
    "outputId": "e4b0f633-532b-41f1-aad5-1e3aa6ea5406"
   },
   "outputs": [],
   "source": [
    "submission['answer'] = test_predictions\n",
    "submission"
   ]
  },
  {
   "cell_type": "code",
   "execution_count": null,
   "id": "830d6036",
   "metadata": {
    "id": "830d6036"
   },
   "outputs": [],
   "source": [
    "submission.to_csv('/content/drive/MyDrive/competition/Jeju Prediction/baseline_submission.csv', index=False)"
   ]
  }
 ],
 "metadata": {
  "colab": {
   "provenance": []
  },
  "kernelspec": {
   "display_name": "Python 3 (ipykernel)",
   "language": "python",
   "name": "python3"
  },
  "language_info": {
   "codemirror_mode": {
    "name": "ipython",
    "version": 3
   },
   "file_extension": ".py",
   "mimetype": "text/x-python",
   "name": "python",
   "nbconvert_exporter": "python",
   "pygments_lexer": "ipython3",
   "version": "3.8.0"
  },
  "toc": {
   "base_numbering": 1,
   "nav_menu": {},
   "number_sections": true,
   "sideBar": true,
   "skip_h1_title": false,
   "title_cell": "Table of Contents",
   "title_sidebar": "Contents",
   "toc_cell": false,
   "toc_position": {},
   "toc_section_display": true,
   "toc_window_display": false
  }
 },
 "nbformat": 4,
 "nbformat_minor": 5
}
