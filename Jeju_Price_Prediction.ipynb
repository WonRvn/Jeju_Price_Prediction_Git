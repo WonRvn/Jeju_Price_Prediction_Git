{
 "cells": [
  {
   "cell_type": "markdown",
   "id": "k7eulrgaQwYy",
   "metadata": {
    "id": "k7eulrgaQwYy"
   },
   "source": [
    "## Import"
   ]
  },
  {
   "cell_type": "code",
   "execution_count": null,
   "id": "tJtQnBZPjD9y",
   "metadata": {
    "colab": {
     "base_uri": "https://localhost:8080/"
    },
    "id": "tJtQnBZPjD9y",
    "outputId": "5b496fa8-05d4-4b4d-abb6-2653ad159c55"
   },
   "outputs": [],
   "source": [
    "from google.colab import drive\n",
    "drive.mount('/content/drive')"
   ]
  },
  {
   "cell_type": "code",
   "execution_count": null,
   "id": "rBvX-8P2QwYy",
   "metadata": {
    "id": "rBvX-8P2QwYy"
   },
   "outputs": [],
   "source": [
    "import random\n",
    "import pandas as pd\n",
    "import numpy as np\n",
    "import os\n",
    "import seaborn as sns\n",
    "import matplotlib.pyplot as plt\n",
    "from sklearn.preprocessing import QuantileTransformer\n",
    "from sklearn.preprocessing import LabelEncoder, StandardScaler\n",
    "import warnings\n",
    "from sklearn.model_selection import train_test_split\n",
    "from sklearn.metrics import mean_squared_error\n",
    "\n",
    "warnings.filterwarnings(action='ignore')"
   ]
  },
  {
   "cell_type": "markdown",
   "id": "QT7_IBn9QwYz",
   "metadata": {
    "id": "QT7_IBn9QwYz"
   },
   "source": [
    "## Fixed Random-Seed"
   ]
  },
  {
   "cell_type": "code",
   "execution_count": null,
   "id": "KgyHxME7QwYz",
   "metadata": {
    "id": "KgyHxME7QwYz"
   },
   "outputs": [],
   "source": [
    "def seed_everything(seed):\n",
    "    random.seed(seed)\n",
    "    os.environ['PYTHONHASHSEED'] = str(seed)\n",
    "    np.random.seed(seed)\n",
    "\n",
    "seed_everything(42) # Seed 고정"
   ]
  },
  {
   "cell_type": "markdown",
   "id": "a0b96368",
   "metadata": {
    "id": "a0b96368"
   },
   "source": [
    "## Load Data"
   ]
  },
  {
   "cell_type": "code",
   "execution_count": null,
   "id": "3979c375",
   "metadata": {
    "id": "3979c375"
   },
   "outputs": [],
   "source": [
    "train_df = pd.read_csv('/content/drive/MyDrive/competition/Jeju Prediction/train.csv')\n",
    "test_df = pd.read_csv('/content/drive/MyDrive/competition/Jeju Prediction/test.csv')\n",
    "inter_df = pd.read_csv('/content/drive/MyDrive/competition/Jeju Prediction/international_trade.csv')"
   ]
  },
  {
   "cell_type": "code",
   "execution_count": null,
   "id": "BQvP8JbGkUHp",
   "metadata": {
    "colab": {
     "base_uri": "https://localhost:8080/",
     "height": 424
    },
    "id": "BQvP8JbGkUHp",
    "outputId": "b9a80da4-30ad-4e38-e19b-0aa6b3c085d2"
   },
   "outputs": [],
   "source": [
    "train_df"
   ]
  },
  {
   "cell_type": "code",
   "execution_count": null,
   "id": "BaSCb6cgBxHc",
   "metadata": {
    "colab": {
     "base_uri": "https://localhost:8080/",
     "height": 424
    },
    "id": "BaSCb6cgBxHc",
    "outputId": "1f953d46-0ffe-4f1a-bc6b-02182604f98b"
   },
   "outputs": [],
   "source": [
    "inter_df"
   ]
  },
  {
   "cell_type": "code",
   "execution_count": null,
   "id": "N5L7anqrkV-Z",
   "metadata": {
    "colab": {
     "base_uri": "https://localhost:8080/",
     "height": 424
    },
    "id": "N5L7anqrkV-Z",
    "outputId": "6aaf22e4-52f2-44bd-db19-ef2aa51eed24"
   },
   "outputs": [],
   "source": [
    "test_df"
   ]
  },
  {
   "cell_type": "markdown",
   "id": "oEEZXBhnxKci",
   "metadata": {
    "id": "oEEZXBhnxKci"
   },
   "source": [
    "## **Heatmap Visualization**"
   ]
  },
  {
   "cell_type": "code",
   "execution_count": null,
   "id": "IiWU5GUTxKWa",
   "metadata": {
    "colab": {
     "base_uri": "https://localhost:8080/",
     "height": 697
    },
    "id": "IiWU5GUTxKWa",
    "outputId": "3e18e924-acb8-4930-a19e-fceb0a22aa3b"
   },
   "outputs": [],
   "source": [
    "# Calculate the correlation matrix\n",
    "corr_matrix = train_df.corr()\n",
    "\n",
    "# Create a heatmap\n",
    "plt.figure(figsize=(12, 8))\n",
    "sns.heatmap(corr_matrix, annot=True, fmt=\".2f\", cmap=\"coolwarm\", vmin=-1, vmax=1)\n",
    "plt.title('Heatmap of Feature Correlations')\n",
    "plt.show()"
   ]
  },
  {
   "cell_type": "markdown",
   "id": "r-3_zmrwQwYz",
   "metadata": {
    "id": "r-3_zmrwQwYz"
   },
   "source": [
    "## Data Pre-Processing"
   ]
  },
  {
   "cell_type": "code",
   "execution_count": null,
   "id": "ToKZHk6iOETS",
   "metadata": {
    "colab": {
     "base_uri": "https://localhost:8080/"
    },
    "id": "ToKZHk6iOETS",
    "outputId": "f3f8ee67-673f-41ef-d343-37de6c3848e1"
   },
   "outputs": [],
   "source": [
    "# 1. Handling Missing Values\n",
    "# 1. 결측값 (값이 없는 값들) 열마다 총 몇 개 있는지 확인하는 코드\n",
    "\n",
    "missing_values = train_df.isnull().sum()\n",
    "print(\"Missing values:\\n\", missing_values)"
   ]
  },
  {
   "cell_type": "code",
   "execution_count": null,
   "id": "LBw9u_N7OKWt",
   "metadata": {
    "id": "LBw9u_N7OKWt"
   },
   "outputs": [],
   "source": [
    "# 2. Converting Data Types\n",
    "train_df['timestamp'] = pd.to_datetime(train_df['timestamp'])"
   ]
  },
  {
   "cell_type": "code",
   "execution_count": null,
   "id": "Vnr0h-8uON7A",
   "metadata": {
    "id": "Vnr0h-8uON7A"
   },
   "outputs": [],
   "source": [
    "# 3. Encoding Categorical Variables\n",
    "\n",
    "label_encoder = LabelEncoder()\n",
    "for column in ['item', 'corporation', 'location']:\n",
    "    combined = pd.concat([train_df[column], test_df[column]], axis=0)\n",
    "    label_encoder.fit(combined)\n",
    "    train_df[column] = label_encoder.transform(train_df[column])\n",
    "    test_df[column] = label_encoder.transform(test_df[column])"
   ]
  },
  {
   "cell_type": "code",
   "execution_count": null,
   "id": "dS6uRi-2OQcI",
   "metadata": {
    "id": "dS6uRi-2OQcI"
   },
   "outputs": [],
   "source": [
    "# 4. Feature Engineering\n",
    "\n",
    "train_df['year'] = train_df['timestamp'].dt.year\n",
    "train_df['month'] = train_df['timestamp'].dt.month\n",
    "train_df['day'] = train_df['timestamp'].dt.day\n",
    "train_df = train_df.drop(columns=['supply(kg)'])"
   ]
  },
  {
   "cell_type": "code",
   "execution_count": null,
   "id": "0Ufr7mLFs-3_",
   "metadata": {
    "colab": {
     "base_uri": "https://localhost:8080/"
    },
    "id": "0Ufr7mLFs-3_",
    "outputId": "e8857e04-6f95-4af9-b6bd-7901491373f7"
   },
   "outputs": [],
   "source": [
    "# 5. Splitting Data into Training and Validation Sets\n",
    "train_data, valid_data = train_test_split(train_df, test_size=0.2, random_state=42)\n",
    "print(\"Training Data Shape:\", train_data.shape)\n",
    "print(\"Validation Data Shape:\", valid_data.shape)"
   ]
  },
  {
   "cell_type": "code",
   "execution_count": null,
   "id": "SrIQQ_gaOUYG",
   "metadata": {
    "id": "SrIQQ_gaOUYG"
   },
   "outputs": [],
   "source": [
    "# Initialize the QuantileTransformer\n",
    "quantile_transformer = QuantileTransformer(output_distribution='uniform', random_state=42)"
   ]
  },
  {
   "cell_type": "code",
   "execution_count": null,
   "id": "m1UO36WSmLPs",
   "metadata": {
    "id": "m1UO36WSmLPs"
   },
   "outputs": [],
   "source": [
    "# Columns to be transformed\n",
    "columns_to_transform = ['year', 'month', 'day']"
   ]
  },
  {
   "cell_type": "code",
   "execution_count": null,
   "id": "gyM5kiMImNDV",
   "metadata": {
    "id": "gyM5kiMImNDV"
   },
   "outputs": [],
   "source": [
    "# Apply the quantile transformation\n",
    "train_df[columns_to_transform] = quantile_transformer.fit_transform(train_df[columns_to_transform])"
   ]
  },
  {
   "cell_type": "code",
   "execution_count": null,
   "id": "hagJu4UzmPAz",
   "metadata": {
    "colab": {
     "base_uri": "https://localhost:8080/"
    },
    "id": "hagJu4UzmPAz",
    "outputId": "db7909b9-0383-4f65-96e2-19541a963df2"
   },
   "outputs": [],
   "source": [
    "# Show the first few rows of the preprocessed and transformed data\n",
    "print(train_df.head())"
   ]
  },
  {
   "cell_type": "markdown",
   "id": "ZC7hzMtOQwY0",
   "metadata": {
    "id": "ZC7hzMtOQwY0"
   },
   "source": [
    "## **Pycaret**"
   ]
  },
  {
   "cell_type": "code",
   "execution_count": null,
   "id": "yrTng6Gjjbaa",
   "metadata": {
    "colab": {
     "base_uri": "https://localhost:8080/"
    },
    "id": "yrTng6Gjjbaa",
    "outputId": "ce57ac7d-59b2-4c40-d1d8-be6e9a681e64"
   },
   "outputs": [],
   "source": [
    "!pip install --upgrade scipy\n",
    "!pip install --upgrade pycaret"
   ]
  },
  {
   "cell_type": "code",
   "execution_count": null,
   "id": "Ktec1ZJHjshV",
   "metadata": {
    "id": "Ktec1ZJHjshV"
   },
   "outputs": [],
   "source": [
    "from pycaret.regression import *"
   ]
  },
  {
   "cell_type": "code",
   "execution_count": null,
   "id": "jUriTRW7jvpz",
   "metadata": {
    "colab": {
     "base_uri": "https://localhost:8080/",
     "height": 1000,
     "referenced_widgets": [
      "b8eac112d38e4ce69fd1cfcf524d21eb",
      "21612b5cf2e24eeda97fd7b9e8f7d05e",
      "e2516f5274f5432fb31680991d7ed690",
      "d7b852aa577a4e1f93f5b7d5d9d162cc",
      "96886c9df8604745b799d231236d816c",
      "57458d8c20cb45f087991e8231e98aa1",
      "58783a792ada4a198aeaba0da37282c0",
      "c2c3533441ce4eebb81c2dd1ab6e0967",
      "9874d7473c654da6a24e53fc40b61f70",
      "758f1c13af3349fe94ae5c5e89c6968a",
      "19c8205b913746cbafd38619c848adb7"
     ]
    },
    "id": "jUriTRW7jvpz",
    "outputId": "d34ac7b6-2347-41b2-da6d-7152ce927b83"
   },
   "outputs": [],
   "source": [
    "# Initialize the setup with validation set\n",
    "regression_setup = setup(data=train_data,\n",
    "                         target='price(원/kg)',\n",
    "                         session_id=42,\n",
    "                         normalize=True,\n",
    "                         transformation=True,\n",
    "                         transform_target=True,\n",
    "                         data_split_shuffle=False,  # No additional shuffling, as we've already split the data\n",
    "                         train_size=0.8)  # Adjust as needed\n",
    "\n",
    "# Create and train the Extra Trees Regressor model\n",
    "et_model = create_model('et')\n",
    "\n",
    "# Compare models to find the best one\n",
    "# best_model = compare_models(sort='RMSE')  # Sorting by R-squared value\n",
    "\n",
    "# Show the best model\n",
    "# print(best_model)"
   ]
  },
  {
   "cell_type": "markdown",
   "id": "Uj-WTX6oQwY0",
   "metadata": {
    "id": "Uj-WTX6oQwY0"
   },
   "source": [
    "## Inference"
   ]
  },
  {
   "cell_type": "code",
   "execution_count": null,
   "id": "loOOCYlXuhlX",
   "metadata": {
    "id": "loOOCYlXuhlX"
   },
   "outputs": [],
   "source": [
    "# Preprocessing test data\n",
    "test_df['timestamp'] = pd.to_datetime(test_df['timestamp'])"
   ]
  },
  {
   "cell_type": "code",
   "execution_count": null,
   "id": "GWYN-IuEwn0k",
   "metadata": {
    "id": "GWYN-IuEwn0k"
   },
   "outputs": [],
   "source": [
    "test_df['year'] = test_df['timestamp'].dt.year\n",
    "test_df['month'] = test_df['timestamp'].dt.month\n",
    "test_df['day'] = test_df['timestamp'].dt.day\n",
    "test_df[columns_to_transform] = quantile_transformer.transform(test_df[columns_to_transform])"
   ]
  },
  {
   "cell_type": "code",
   "execution_count": null,
   "id": "ENCOoU00QwY0",
   "metadata": {
    "colab": {
     "base_uri": "https://localhost:8080/",
     "height": 17
    },
    "id": "ENCOoU00QwY0",
    "outputId": "ab0050cd-bae1-43f5-bf07-6c0ba31672fc"
   },
   "outputs": [],
   "source": [
    "# Use the test set for final testing\n",
    "preds = predict_model(et_model, data=test_df)['prediction_label']"
   ]
  },
  {
   "cell_type": "markdown",
   "id": "5FMPeTISQwY0",
   "metadata": {
    "id": "5FMPeTISQwY0"
   },
   "source": [
    "## Submission"
   ]
  },
  {
   "cell_type": "code",
   "execution_count": null,
   "id": "AXO-EmaQQwY0",
   "metadata": {
    "colab": {
     "base_uri": "https://localhost:8080/",
     "height": 424
    },
    "id": "AXO-EmaQQwY0",
    "outputId": "02777ab2-5d4e-440f-dca9-0f7b18874136"
   },
   "outputs": [],
   "source": [
    "submission = pd.read_csv('/content/drive/MyDrive/competition/Jeju Prediction/sample_submission.csv')\n",
    "submission"
   ]
  },
  {
   "cell_type": "code",
   "execution_count": null,
   "id": "a4bfa9ac",
   "metadata": {
    "colab": {
     "base_uri": "https://localhost:8080/",
     "height": 424
    },
    "id": "a4bfa9ac",
    "outputId": "6976451b-863f-45de-ab6e-2be38edb754c"
   },
   "outputs": [],
   "source": [
    "submission['answer'] = preds\n",
    "submission"
   ]
  },
  {
   "cell_type": "code",
   "execution_count": null,
   "id": "830d6036",
   "metadata": {
    "id": "830d6036"
   },
   "outputs": [],
   "source": [
    "submission.to_csv('/content/drive/MyDrive/competition/Jeju Prediction/baseline_submission.csv', index=False)"
   ]
  }
 ],
 "metadata": {
  "colab": {
   "provenance": []
  },
  "kernelspec": {
   "display_name": "Python 3 (ipykernel)",
   "language": "python",
   "name": "python3"
  },
  "language_info": {
   "codemirror_mode": {
    "name": "ipython",
    "version": 3
   },
   "file_extension": ".py",
   "mimetype": "text/x-python",
   "name": "python",
   "nbconvert_exporter": "python",
   "pygments_lexer": "ipython3",
   "version": "3.8.0"
  },
  "toc": {
   "base_numbering": 1,
   "nav_menu": {},
   "number_sections": true,
   "sideBar": true,
   "skip_h1_title": false,
   "title_cell": "Table of Contents",
   "title_sidebar": "Contents",
   "toc_cell": false,
   "toc_position": {},
   "toc_section_display": true,
   "toc_window_display": false
  }
 },
 "nbformat": 4,
 "nbformat_minor": 5
}
